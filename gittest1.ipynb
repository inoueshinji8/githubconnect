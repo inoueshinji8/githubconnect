{
  "nbformat": 4,
  "nbformat_minor": 0,
  "metadata": {
    "colab": {
      "name": "gittest1.ipynb",
      "provenance": [],
      "authorship_tag": "ABX9TyNpKjmDeCMdEcRbPTv97ygU",
      "include_colab_link": true
    },
    "kernelspec": {
      "name": "python3",
      "display_name": "Python 3"
    },
    "language_info": {
      "name": "python"
    }
  },
  "cells": [
    {
      "cell_type": "markdown",
      "metadata": {
        "id": "view-in-github",
        "colab_type": "text"
      },
      "source": [
        "<a href=\"https://colab.research.google.com/github/inoueshinji8/githubconnect/blob/main/gittest1.ipynb\" target=\"_parent\"><img src=\"https://colab.research.google.com/assets/colab-badge.svg\" alt=\"Open In Colab\"/></a>"
      ]
    },
    {
      "cell_type": "code",
      "metadata": {
        "colab": {
          "base_uri": "https://localhost:8080/"
        },
        "id": "NGDlS7wwfpY6",
        "outputId": "4ec16ade-f260-49e8-de11-c2bfba3a865d"
      },
      "source": [
        "print(\"hello\")"
      ],
      "execution_count": 1,
      "outputs": [
        {
          "output_type": "stream",
          "name": "stdout",
          "text": [
            "hello\n"
          ]
        }
      ]
    },
    {
      "cell_type": "code",
      "metadata": {
        "colab": {
          "base_uri": "https://localhost:8080/",
          "height": 110
        },
        "id": "xIMPcOZ_hbE2",
        "outputId": "b228f10c-c738-4b5d-d16f-9607da2a664b"
      },
      "source": [
        "import pandas as pd\n",
        "#https://github.com/inoueshinji8/githubconnect/blob/main/nutrition.csv\n",
        "df = pd.read_csv('https://raw.githubusercontent.com/inoueshinji8/githubconnect/main/nutrition.csv')\n",
        "#https://raw.githubusercontent.com/inoueshinji8/githubconnect/main/nutrition.csv\n",
        "df"
      ],
      "execution_count": 4,
      "outputs": [
        {
          "output_type": "execute_result",
          "data": {
            "text/html": [
              "<div>\n",
              "<style scoped>\n",
              "    .dataframe tbody tr th:only-of-type {\n",
              "        vertical-align: middle;\n",
              "    }\n",
              "\n",
              "    .dataframe tbody tr th {\n",
              "        vertical-align: top;\n",
              "    }\n",
              "\n",
              "    .dataframe thead th {\n",
              "        text-align: right;\n",
              "    }\n",
              "</style>\n",
              "<table border=\"1\" class=\"dataframe\">\n",
              "  <thead>\n",
              "    <tr style=\"text-align: right;\">\n",
              "      <th></th>\n",
              "      <th>1</th>\n",
              "      <th>egg</th>\n",
              "      <th>protain</th>\n",
              "    </tr>\n",
              "  </thead>\n",
              "  <tbody>\n",
              "    <tr>\n",
              "      <th>0</th>\n",
              "      <td>2</td>\n",
              "      <td>rice</td>\n",
              "      <td>starch</td>\n",
              "    </tr>\n",
              "    <tr>\n",
              "      <th>1</th>\n",
              "      <td>3</td>\n",
              "      <td>spinach</td>\n",
              "      <td>vitamin</td>\n",
              "    </tr>\n",
              "  </tbody>\n",
              "</table>\n",
              "</div>"
            ],
            "text/plain": [
              "   1      egg  protain\n",
              "0  2     rice   starch\n",
              "1  3  spinach  vitamin"
            ]
          },
          "metadata": {},
          "execution_count": 4
        }
      ]
    },
    {
      "cell_type": "code",
      "metadata": {
        "id": "SdwRH-yMNPN_"
      },
      "source": [
        "df1 = pd.read_csv('https://raw.githubusercontent.com/inoueshinji8/githubconnect/main/advoc.csv')\n",
        "#https://raw.githubusercontent.com/inoueshinji8/githubconnect/main/nutrition.csv\n",
        "df1"
      ],
      "execution_count": null,
      "outputs": []
    }
  ]
}